{
  "nbformat": 4,
  "nbformat_minor": 0,
  "metadata": {
    "colab": {
      "provenance": [],
      "collapsed_sections": [
        "XUs5pMuuIRfK",
        "cssts3SIISad",
        "UrzeDiETISlq",
        "b3MI2Kc5bWVp",
        "X9eRINL6bSgf",
        "jmcLMeMd_M-v",
        "gcGnMoFdZoQI",
        "6QcsWYxXZ201",
        "VvFgblk3A_Iu"
      ]
    },
    "kernelspec": {
      "name": "python3",
      "display_name": "Python 3"
    },
    "language_info": {
      "name": "python"
    },
    "accelerator": "GPU",
    "gpuClass": "standard"
  },
  "cells": [
    {
      "cell_type": "markdown",
      "source": [
        "# Dependencies"
      ],
      "metadata": {
        "id": "XUs5pMuuIRfK"
      }
    },
    {
      "cell_type": "code",
      "execution_count": null,
      "metadata": {
        "id": "yXQwM_lhGoMg"
      },
      "outputs": [],
      "source": [
        "import torch\n",
        "import torch.nn as nn\n",
        "import torch.optim as optim\n",
        "import torch.nn.functional as F\n",
        "import torchvision.transforms as T\n",
        "\n",
        "import math\n",
        "import numpy as np\n",
        "import matplotlib\n",
        "import matplotlib.pyplot as plt\n",
        "from collections import deque, namedtuple\n",
        "from itertools import count\n",
        "\n",
        "import random\n",
        "import time"
      ]
    },
    {
      "cell_type": "code",
      "source": [
        "local_runtime = True"
      ],
      "metadata": {
        "id": "RKEo2SMCiUyZ"
      },
      "execution_count": null,
      "outputs": []
    },
    {
      "cell_type": "code",
      "source": [
        "if local_runtime:\n",
        "    # local device\n",
        "    path = 'C:\\\\Users\\\\orvai\\\\DataspellProjects\\\\ML_final_project\\\\Models\\\\'\n",
        "else:\n",
        "    # drive\n",
        "    from google.colab import drive\n",
        "    drive.mount('/content/gdrive')\n",
        "    path = '/content/gdrive/My Drive/RL Project/Models/'"
      ],
      "metadata": {
        "id": "YX6vrbuvhgiW"
      },
      "execution_count": null,
      "outputs": []
    },
    {
      "cell_type": "code",
      "source": [
        "device = torch.device(\"cuda:0\" if torch.cuda.is_available() else \"cpu\")"
      ],
      "metadata": {
        "id": "CMuTM6f6IuGm"
      },
      "execution_count": null,
      "outputs": []
    },
    {
      "cell_type": "code",
      "source": [
        "torch.backends.cudnn.benchmark = True"
      ],
      "metadata": {
        "id": "n5nBQ0HnIuw2"
      },
      "execution_count": null,
      "outputs": []
    },
    {
      "cell_type": "code",
      "source": [
        "device"
      ],
      "metadata": {
        "colab": {
          "base_uri": "https://localhost:8080/"
        },
        "id": "NZfan-l7ihX7",
        "outputId": "bbcc6ae9-8469-49a0-f2a7-b630a2bf53af"
      },
      "execution_count": null,
      "outputs": [
        {
          "output_type": "execute_result",
          "data": {
            "text/plain": [
              "device(type='cuda', index=0)"
            ]
          },
          "metadata": {},
          "execution_count": 281
        }
      ]
    },
    {
      "cell_type": "markdown",
      "source": [
        "# Env"
      ],
      "metadata": {
        "id": "cssts3SIISad"
      }
    },
    {
      "cell_type": "code",
      "source": [
        "class Env2048:\n",
        "\tdef __init__(self):\n",
        "\t\tself.grid = np.zeros((4, 4), dtype=int)\n",
        "\t\tself.add_tile()\n",
        "\t\tself.add_tile()\n",
        "\t\tself._score = 0\n",
        "\n",
        "\tdef reset(self):\n",
        "\t\tself.__init__()\n",
        "\t\treturn self.grid\n",
        "\n",
        "\tdef copy(self):\n",
        "\t\ttmp = Env2048()\n",
        "\t\ttmp.grid = self.grid.copy()\n",
        "\t\ttmp.score = self._score\n",
        "\t\treturn tmp\n",
        "\n",
        "\tdef add_tile(self):\n",
        "\t\ti, j = (self.grid == 0).nonzero()\n",
        "\t\tassert (len(i)) != 0\n",
        "\t\trnd = np.random.choice(len(i))\n",
        "\t\tself.grid[i[rnd], j[rnd]] = np.random.choice([1, 2], p=[0.9, 0.1])\n",
        "\n",
        "\tdef is_done(self):\n",
        "\t\tfor i in range(self.grid.shape[0]):\n",
        "\t\t\tfor j in range(self.grid.shape[1]):\n",
        "\t\t\t\tif self.grid[i][j] == 0 or \\\n",
        "\t\t\t\t\t\ti != 0 and self.grid[i - 1][j] == self.grid[i][j] or \\\n",
        "\t\t\t\t\t\tj != 0 and self.grid[i][j - 1] == self.grid[i][j]:\n",
        "\t\t\t\t\treturn False\n",
        "\t\treturn True\n",
        "\n",
        "\tdef step(self, action):\n",
        "\t\trotated_board = np.rot90(self.grid, action)\n",
        "\t\tnext_state = np.zeros((4, 4), dtype=int)\n",
        "\n",
        "\t\tfor col_idx in range(4):\n",
        "\t\t\tcol = rotated_board[col_idx, :]\n",
        "\t\t\tresult = np.zeros(4, dtype=col.dtype)\n",
        "\t\t\tj, prev = 0, None\n",
        "\t\t\tfor i in range(4):\n",
        "\t\t\t\tif col[i] != 0:\n",
        "\t\t\t\t\tif prev is None:\n",
        "\t\t\t\t\t\tprev = col[i]\n",
        "\t\t\t\t\telif prev == col[i]:\n",
        "\t\t\t\t\t\tresult[j] = col[i] + 1\n",
        "\t\t\t\t\t\tself._score += 1 << result[j]\n",
        "\t\t\t\t\t\tj += 1\n",
        "\t\t\t\t\t\tprev = None\n",
        "\t\t\t\t\telse:\n",
        "\t\t\t\t\t\tresult[j] = prev\n",
        "\t\t\t\t\t\tj += 1\n",
        "\t\t\t\t\t\tprev = col[i]\n",
        "\t\t\tif prev is not None:\n",
        "\t\t\t\tresult[j] = prev\n",
        "\t\t\tnext_state[col_idx] = result\n",
        "\n",
        "\t\tnext_state = np.rot90(next_state, -action)\n",
        "\t\tif not (next_state == self.grid).all():\n",
        "\t\t\tself.grid = next_state\n",
        "\t\t\tself.add_tile()\n",
        "\n",
        "\t\treturn self.state(), self.empty_tiles(), self.is_done()\n",
        "\n",
        "\tdef score(self):\n",
        "\t\treturn self._score\n",
        "\n",
        "\tdef state(self):\n",
        "\t\treturn self.grid\n",
        "\n",
        "\tdef max_tile(self):\n",
        "\t\treturn 1 << self.grid.max()\n",
        "\n",
        "\tdef _can_perform(self, action):\n",
        "\t\ttmp = np.rot90(self.state(), action)\n",
        "\t\tfor row in range(4):\n",
        "\t\t\thas_empty = False\n",
        "\t\t\tfor col in range(4):\n",
        "\t\t\t\thas_empty |= tmp[row, col] == 0\n",
        "\t\t\t\tif tmp[row, col] != 0 and has_empty:\n",
        "\t\t\t\t\treturn True\n",
        "\t\t\t\tif (tmp[row, col] != 0 and col > 0 and\n",
        "\t\t\t\t\t\ttmp[row, col] == tmp[row, col - 1]):\n",
        "\t\t\t\t\treturn True\n",
        "\t\treturn False\n",
        "\n",
        "\tdef possible_actions(self):\n",
        "\t\tres = []\n",
        "\t\tfor a in range(4):\n",
        "\t\t\tif self._can_perform(a):\n",
        "\t\t\t\tres.append(a)\n",
        "\t\treturn res\n",
        "\n",
        "\tdef empty_tiles(self):\n",
        "\t\tcount = 0\n",
        "\t\tfor i in range(4):\n",
        "\t\t\tfor j in range(4):\n",
        "\t\t\t\tcount += (self.grid[i][j] == 0)\n",
        "\t\treturn count\n",
        "\n",
        "\tdef render(self):\n",
        "\t\tfor i in range(4):\n",
        "\t\t\tfor j in range(4):\n",
        "\t\t\t\tprint((1 << self.grid[i][j] if self.grid[i][j] != 0 else \"\"), end=\"\\t\")\n",
        "\t\t\tprint()"
      ],
      "metadata": {
        "id": "x4JnAR2sISgQ"
      },
      "execution_count": null,
      "outputs": []
    },
    {
      "cell_type": "markdown",
      "source": [
        "# Model"
      ],
      "metadata": {
        "id": "UrzeDiETISlq"
      }
    },
    {
      "cell_type": "code",
      "source": [
        "Transition = namedtuple('Transition',\n",
        "                        ('state', 'next_state', 'action', 'reward', 'done'))"
      ],
      "metadata": {
        "id": "pYNOTcdhIbYW"
      },
      "execution_count": null,
      "outputs": []
    },
    {
      "cell_type": "code",
      "source": [
        "class ReplayMemory(object):\n",
        "    def __init__(self, capacity):\n",
        "        self.memory = deque([], maxlen=capacity)\n",
        "\n",
        "    def push(self, *args):\n",
        "        self.memory.append(Transition(*args))\n",
        "\n",
        "    def sample(self, batch_size):\n",
        "        return random.sample(self.memory, batch_size)\n",
        "\n",
        "    def __len__(self):\n",
        "        return len(self.memory)"
      ],
      "metadata": {
        "id": "h19jw4MTISrG"
      },
      "execution_count": null,
      "outputs": []
    },
    {
      "cell_type": "code",
      "source": [
        "class DQN(nn.Module):\n",
        "    def __init__(self):\n",
        "        super(DQN, self).__init__()\n",
        "        \n",
        "        self.conv_a = nn.Conv2d(16, 128, kernel_size=(1,2))\n",
        "        self.conv_b = nn.Conv2d(16, 128, kernel_size=(2,1))\n",
        "\n",
        "        self.conv_aa = nn.Conv2d(128, 128, kernel_size=(1,2))\n",
        "        self.conv_ab = nn.Conv2d(128, 128, kernel_size=(2,1))\n",
        "\n",
        "        self.conv_ba = nn.Conv2d(128, 128, kernel_size=(1,2))\n",
        "        self.conv_bb = nn.Conv2d(128, 128, kernel_size=(2,1))\n",
        "        \n",
        "        self.fc = nn.Sequential(\n",
        "            nn.Linear(2*4*128*2+3*3*128*2+4*3*128*2, 256),\n",
        "            nn.ReLU(),\n",
        "            nn.Linear(256, 4)\n",
        "        )\n",
        "\n",
        "    def forward(self, x):\n",
        "        x = x.to(device)\n",
        "        x_a = F.relu(self.conv_a(x))\n",
        "        x_b = F.relu(self.conv_b(x))\n",
        "        \n",
        "        x_aa = F.relu(self.conv_aa(x_a))\n",
        "        x_ab = F.relu(self.conv_ab(x_a))\n",
        "        \n",
        "        x_ba = F.relu(self.conv_ba(x_b))\n",
        "        x_bb = F.relu(self.conv_bb(x_b))\n",
        "        \n",
        "        sh_a = x_a.shape\n",
        "        sh_aa = x_aa.shape\n",
        "        sh_ab = x_ab.shape\n",
        "        sh_b = x_b.shape\n",
        "        sh_ba = x_ba.shape\n",
        "        sh_bb = x_bb.shape\n",
        "        \n",
        "        x_a = x_a.view(sh_a[0],sh_a[1]*sh_a[2]*sh_a[3])\n",
        "        x_aa = x_aa.view(sh_aa[0],sh_aa[1]*sh_aa[2]*sh_aa[3])\n",
        "        x_ab = x_ab.view(sh_ab[0],sh_ab[1]*sh_ab[2]*sh_ab[3])\n",
        "        x_b = x_b.view(sh_b[0],sh_b[1]*sh_b[2]*sh_b[3])\n",
        "        x_ba = x_ba.view(sh_ba[0],sh_ba[1]*sh_ba[2]*sh_ba[3])\n",
        "        x_bb = x_bb.view(sh_bb[0],sh_bb[1]*sh_bb[2]*sh_bb[3])\n",
        "        \n",
        "        concat = torch.cat((x_a,x_b,x_aa,x_ab,x_ba,x_bb),dim=1)\n",
        "        \n",
        "        output = self.fc(concat)\n",
        "        \n",
        "        return output"
      ],
      "metadata": {
        "id": "6nYv1U5mJHTj"
      },
      "execution_count": null,
      "outputs": []
    },
    {
      "cell_type": "code",
      "source": [
        "from torchsummary import summary\n",
        "summary(DQN().to(device), (16, 4, 4))"
      ],
      "metadata": {
        "colab": {
          "base_uri": "https://localhost:8080/"
        },
        "id": "Qg9Hg2JxJwFM",
        "outputId": "3b97f393-4824-4af8-c196-0eb56b16acc5"
      },
      "execution_count": null,
      "outputs": [
        {
          "output_type": "stream",
          "name": "stdout",
          "text": [
            "----------------------------------------------------------------\n",
            "        Layer (type)               Output Shape         Param #\n",
            "================================================================\n",
            "            Conv2d-1            [-1, 128, 4, 3]           4,224\n",
            "            Conv2d-2            [-1, 128, 3, 4]           4,224\n",
            "            Conv2d-3            [-1, 128, 4, 2]          32,896\n",
            "            Conv2d-4            [-1, 128, 3, 3]          32,896\n",
            "            Conv2d-5            [-1, 128, 3, 3]          32,896\n",
            "            Conv2d-6            [-1, 128, 2, 4]          32,896\n",
            "            Linear-7                  [-1, 256]       1,900,800\n",
            "              ReLU-8                  [-1, 256]               0\n",
            "            Linear-9                    [-1, 4]           1,028\n",
            "================================================================\n",
            "Total params: 2,041,860\n",
            "Trainable params: 2,041,860\n",
            "Non-trainable params: 0\n",
            "----------------------------------------------------------------\n",
            "Input size (MB): 0.00\n",
            "Forward/backward pass size (MB): 0.06\n",
            "Params size (MB): 7.79\n",
            "Estimated Total Size (MB): 7.85\n",
            "----------------------------------------------------------------\n"
          ]
        }
      ]
    },
    {
      "cell_type": "markdown",
      "source": [
        "# Train"
      ],
      "metadata": {
        "id": "WxUPPBfJISv5"
      }
    },
    {
      "cell_type": "markdown",
      "source": [
        "## Utils"
      ],
      "metadata": {
        "id": "b3MI2Kc5bWVp"
      }
    },
    {
      "cell_type": "code",
      "source": [
        "GAMMA = 0.99 \n",
        "EXPLORE = 10000\n",
        "INITIAL_EPSILON = 0.1\n",
        "FINAL_EPSILON = 0.0001\n",
        "BUFFER_SIZE = 50000\n",
        "BATCH = 16\n",
        "UPDATE_RATE = 4"
      ],
      "metadata": {
        "id": "6WbgBOHiRozu"
      },
      "execution_count": null,
      "outputs": []
    },
    {
      "cell_type": "code",
      "source": [
        "policy_net = DQN().to(device)\n",
        "target_net = DQN().to(device)\n",
        "target_net.load_state_dict(policy_net.state_dict())"
      ],
      "metadata": {
        "id": "ku28Ehh8SFOQ",
        "colab": {
          "base_uri": "https://localhost:8080/"
        },
        "outputId": "9aa22ac8-d44f-4d4a-ff6a-f210eb0818cf"
      },
      "execution_count": null,
      "outputs": [
        {
          "output_type": "execute_result",
          "data": {
            "text/plain": [
              "<All keys matched successfully>"
            ]
          },
          "metadata": {},
          "execution_count": 288
        }
      ]
    },
    {
      "cell_type": "code",
      "source": [
        "memory = ReplayMemory(BUFFER_SIZE)\n",
        "optimizer = torch.optim.Adam(policy_net.parameters(), lr=1e-4)\n",
        "steps_done = 0"
      ],
      "metadata": {
        "id": "I4S0dhkDR9wS"
      },
      "execution_count": null,
      "outputs": []
    },
    {
      "cell_type": "code",
      "source": [
        " epsilon = INITIAL_EPSILON"
      ],
      "metadata": {
        "id": "kE3YVmlHScLU"
      },
      "execution_count": null,
      "outputs": []
    },
    {
      "cell_type": "code",
      "source": [
        "episode_durations = []\n",
        "scores = []\n",
        "max_tiles = []"
      ],
      "metadata": {
        "id": "sBtncJ6VSXqB"
      },
      "execution_count": null,
      "outputs": []
    },
    {
      "cell_type": "code",
      "source": [
        "def one_hot_encode(state):\n",
        "    result = np.zeros((1, 16, 4, 4), dtype=np.float32)\n",
        "    for i in range(4):\n",
        "        for j in range(4):\n",
        "            result[0][state[i][j]][i][j] = 1.0\n",
        "    return result"
      ],
      "metadata": {
        "id": "q68oCy3UJmxm"
      },
      "execution_count": null,
      "outputs": []
    },
    {
      "cell_type": "code",
      "source": [
        "def select_action(state, possible_actions, train=True):\n",
        "    global epsilon\n",
        "    state = torch.from_numpy(np.flip(state, axis=0).copy()).to(device)\n",
        "    if random.random() < epsilon and train:\n",
        "        return np.random.choice(possible_actions)\n",
        "    for action in policy_net(state).argsort()[0].cpu().numpy()[::-1]:\n",
        "        if action in possible_actions:\n",
        "            return action\n",
        "    raise ValueError()"
      ],
      "metadata": {
        "id": "87iq7SlmIS2F"
      },
      "execution_count": null,
      "outputs": []
    },
    {
      "cell_type": "markdown",
      "source": [
        "## Train Functions"
      ],
      "metadata": {
        "id": "X9eRINL6bSgf"
      }
    },
    {
      "cell_type": "code",
      "source": [
        "def optimize_model():\n",
        "    global steps_done, epsilon\n",
        "    if len(memory) < 128:\n",
        "        return\n",
        "    steps_done += 1\n",
        "    if steps_done % UPDATE_RATE == 0:\n",
        "        target_net.load_state_dict(policy_net.state_dict())\n",
        "\n",
        "    batch_state, batch_next_state, batch_action, batch_reward, batch_done = zip(*memory.sample(BATCH))\n",
        "\t\n",
        "    batch_state = torch.FloatTensor(np.array(batch_state)).squeeze(1).to(device)\n",
        "    batch_next_state = torch.FloatTensor(np.array(batch_next_state)).squeeze(1).to(device)\n",
        "    batch_action = torch.Tensor(batch_action).unsqueeze(1).to(device)\n",
        "    batch_reward = torch.Tensor(batch_reward).unsqueeze(1).to(device)\n",
        "    batch_done = torch.FloatTensor(batch_done).unsqueeze(1).to(device)\n",
        " \n",
        "    with torch.no_grad():\n",
        "        next_q_vals = target_net(batch_next_state)\n",
        "        y = batch_reward + (1 - batch_done) * GAMMA * torch.max(next_q_vals, dim=1, keepdim=True)[0]\n",
        "    \n",
        "    loss = F.mse_loss(policy_net(batch_state).gather(1, batch_action.long()), y)\n",
        "    optimizer.zero_grad()\n",
        "    loss.backward()\n",
        "    optimizer.step()\n",
        "\n",
        "    if epsilon > FINAL_EPSILON:\n",
        "        epsilon -= (INITIAL_EPSILON - FINAL_EPSILON) / EXPLORE"
      ],
      "metadata": {
        "id": "QciP_a8uJvs3"
      },
      "execution_count": null,
      "outputs": []
    },
    {
      "cell_type": "code",
      "source": [
        "def train(env: Env2048, episodes=3000, save_rate=100, print_rate=100):\n",
        "    global steps_done, epsilon\n",
        "    start_time = time.time()\n",
        "    for episode in range(episodes):\n",
        "        state = one_hot_encode(env.reset())\n",
        "        for t in count():\n",
        "            action = select_action(state, env.possible_actions())\n",
        "            next_state, reward, done = env.step(action)\n",
        "            next_state = one_hot_encode(next_state)\n",
        "\n",
        "            memory.push(state, next_state, torch.FloatTensor([[action]]).to(device), torch.FloatTensor([[reward]]).to(device), torch.FloatTensor([[done]]).to(device))\n",
        "            optimize_model()\n",
        "\n",
        "            state = next_state\n",
        "            if done:\n",
        "                episode_durations.append(t + 1)\n",
        "                scores.append(env.score())\n",
        "                max_tiles.append(env.max_tile())\n",
        "                break\n",
        "        \n",
        "        if episode % save_rate == 0:\n",
        "            torch.save(policy_net.state_dict(), path + 'policy_net.pth')\n",
        "            torch.save(target_net.state_dict(), path + 'target_net.pth')\n",
        "        \n",
        "        if episode % print_rate == 0:\n",
        "            env.render()\n",
        "            print(f'episode {episode} | score {scores[-1]} | max {max_tiles[-1]} | steps {episode_durations[-1]} | time {time.time()-start_time}')\n",
        "    print(\"Training Completed.\")"
      ],
      "metadata": {
        "id": "ymSE_OWqJ3lQ"
      },
      "execution_count": null,
      "outputs": []
    },
    {
      "cell_type": "markdown",
      "source": [
        "## Train Agent"
      ],
      "metadata": {
        "id": "jmcLMeMd_M-v"
      }
    },
    {
      "cell_type": "code",
      "source": [
        "env = Env2048()"
      ],
      "metadata": {
        "id": "QlL2awvQShk4"
      },
      "execution_count": null,
      "outputs": []
    },
    {
      "cell_type": "code",
      "source": [
        "train(env)"
      ],
      "metadata": {
        "id": "35XZ4xKRJ7d3",
        "colab": {
          "base_uri": "https://localhost:8080/"
        },
        "outputId": "0cae638a-31ce-4ac4-b4f9-81b66d4d97b9"
      },
      "execution_count": null,
      "outputs": [
        {
          "output_type": "stream",
          "name": "stdout",
          "text": [
            "4\t2\t8\t16\t\n",
            "2\t4\t16\t32\t\n",
            "4\t16\t256\t2\t\n",
            "8\t64\t2\t8\t\n",
            "episode 0 | score 2364 | max 256 | steps 200 | time 1.3449816703796387\n",
            "16\t2\t4\t32\t\n",
            "8\t64\t256\t4\t\n",
            "4\t8\t64\t128\t\n",
            "2\t4\t32\t2\t\n",
            "episode 100 | score 3444 | max 256 | steps 286 | time 267.9054448604584\n",
            "2\t4\t8\t32\t\n",
            "8\t16\t64\t512\t\n",
            "4\t32\t2\t128\t\n",
            "2\t4\t8\t32\t\n",
            "episode 200 | score 5480 | max 512 | steps 378 | time 652.9211304187775\n",
            "2\t16\t8\t64\t\n",
            "4\t8\t16\t128\t\n",
            "2\t4\t64\t512\t\n",
            "4\t8\t32\t64\t\n",
            "episode 300 | score 5912 | max 512 | steps 417 | time 1137.7455298900604\n",
            "2\t4\t8\t64\t\n",
            "8\t16\t32\t128\t\n",
            "4\t64\t512\t2\t\n",
            "2\t8\t32\t64\t\n",
            "episode 400 | score 6032 | max 512 | steps 435 | time 1735.8842027187347\n",
            "2\t8\t16\t32\t\n",
            "4\t16\t32\t128\t\n",
            "8\t4\t64\t256\t\n",
            "4\t2\t16\t512\t\n",
            "episode 500 | score 7240 | max 512 | steps 505 | time 2402.364599943161\n",
            "4\t2\t4\t64\t\n",
            "8\t32\t64\t256\t\n",
            "4\t2\t16\t512\t\n",
            "2\t4\t2\t64\t\n",
            "episode 600 | score 6884 | max 512 | steps 475 | time 3076.522155046463\n",
            "2\t8\t32\t64\t\n",
            "4\t16\t64\t1024\t\n",
            "8\t64\t128\t256\t\n",
            "4\t2\t32\t128\t\n",
            "episode 700 | score 13528 | max 1024 | steps 836 | time 3807.831784248352\n",
            "2\t4\t32\t128\t\n",
            "8\t16\t128\t512\t\n",
            "16\t4\t32\t64\t\n",
            "4\t2\t16\t32\t\n",
            "episode 800 | score 6268 | max 512 | steps 438 | time 4537.15963101387\n",
            "2\t4\t64\t128\t\n",
            "4\t8\t128\t512\t\n",
            "8\t32\t64\t128\t\n",
            "2\t16\t32\t64\t\n",
            "episode 900 | score 7488 | max 512 | steps 542 | time 5287.94606256485\n",
            "2\t4\t16\t32\t\n",
            "8\t16\t64\t128\t\n",
            "4\t32\t512\t2\t\n",
            "2\t16\t64\t512\t\n",
            "episode 1000 | score 9812 | max 512 | steps 652 | time 6036.115847826004\n",
            "2\t4\t64\t256\t\n",
            "8\t16\t128\t1024\t\n",
            "16\t4\t64\t256\t\n",
            "4\t8\t16\t128\t\n",
            "episode 1100 | score 14756 | max 1024 | steps 895 | time 6788.794067144394\n",
            "8\t4\t16\t64\t\n",
            "4\t8\t128\t1024\t\n",
            "2\t16\t32\t256\t\n",
            "4\t8\t4\t128\t\n",
            "episode 1200 | score 12860 | max 1024 | steps 778 | time 7563.568480014801\n",
            "2\t4\t16\t64\t\n",
            "8\t16\t128\t256\t\n",
            "4\t32\t64\t512\t\n",
            "2\t4\t8\t1024\t\n",
            "episode 1300 | score 16372 | max 1024 | steps 968 | time 8316.147444963455\n",
            "2\t8\t32\t64\t\n",
            "8\t16\t64\t128\t\n",
            "4\t8\t128\t256\t\n",
            "2\t4\t64\t128\t\n",
            "episode 1400 | score 5088 | max 256 | steps 406 | time 9040.324930906296\n",
            "2\t4\t32\t256\t\n",
            "8\t16\t64\t2\t\n",
            "4\t2\t16\t512\t\n",
            "2\t16\t4\t256\t\n",
            "episode 1500 | score 8064 | max 512 | steps 537 | time 9834.564645528793\n",
            "2\t4\t64\t128\t\n",
            "16\t8\t128\t256\t\n",
            "4\t32\t64\t1024\t\n",
            "2\t16\t32\t256\t\n",
            "episode 1600 | score 14956 | max 1024 | steps 917 | time 10591.107733726501\n",
            "64\t8\t4\t2\t\n",
            "256\t128\t16\t4\t\n",
            "512\t64\t32\t16\t\n",
            "128\t32\t4\t2\t\n",
            "episode 1700 | score 8240 | max 512 | steps 583 | time 11317.689806222916\n",
            "2\t4\t8\t16\t\n",
            "4\t8\t32\t128\t\n",
            "8\t16\t64\t1024\t\n",
            "4\t8\t32\t128\t\n",
            "episode 1800 | score 11268 | max 1024 | steps 683 | time 12038.96790599823\n",
            "2\t4\t128\t2\t\n",
            "8\t64\t8\t256\t\n",
            "2\t8\t64\t1024\t\n",
            "4\t2\t16\t256\t\n",
            "episode 1900 | score 13952 | max 1024 | steps 832 | time 12830.91172337532\n",
            "64\t32\t8\t2\t\n",
            "256\t128\t16\t4\t\n",
            "512\t256\t64\t8\t\n",
            "64\t32\t16\t2\t\n",
            "episode 2000 | score 9532 | max 512 | steps 664 | time 13599.090579986572\n",
            "2\t4\t64\t128\t\n",
            "4\t16\t128\t256\t\n",
            "2\t32\t256\t1024\t\n",
            "8\t4\t32\t64\t\n",
            "episode 2100 | score 14956 | max 1024 | steps 922 | time 14377.8327190876\n",
            "2\t16\t4\t256\t\n",
            "8\t32\t16\t1024\t\n",
            "4\t16\t64\t256\t\n",
            "2\t4\t16\t128\t\n",
            "episode 2200 | score 13892 | max 1024 | steps 836 | time 15105.608981370926\n",
            "16\t8\t2\t8\t\n",
            "4\t16\t32\t2048\t\n",
            "64\t128\t16\t4\t\n",
            "4\t256\t4\t2\t\n",
            "episode 2300 | score 23224 | max 2048 | steps 1190 | time 15903.35237979889\n",
            "128\t64\t4\t2\t\n",
            "256\t128\t32\t8\t\n",
            "512\t16\t8\t16\t\n",
            "256\t8\t4\t8\t\n",
            "episode 2400 | score 9620 | max 512 | steps 670 | time 16714.693273067474\n",
            "2\t4\t32\t64\t\n",
            "4\t32\t512\t128\t\n",
            "8\t16\t32\t4\t\n",
            "2\t4\t16\t128\t\n",
            "episode 2500 | score 6276 | max 512 | steps 445 | time 17445.65457868576\n",
            "128\t8\t4\t2\t\n",
            "256\t128\t16\t4\t\n",
            "1024\t64\t32\t8\t\n",
            "256\t16\t4\t16\t\n",
            "episode 2600 | score 14628 | max 1024 | steps 895 | time 18256.28961968422\n",
            "8\t16\t64\t128\t\n",
            "4\t32\t128\t1024\t\n",
            "16\t8\t32\t4\t\n",
            "2\t4\t16\t2\t\n",
            "episode 2700 | score 11228 | max 1024 | steps 670 | time 19014.147636175156\n",
            "4\t32\t256\t2\t\n",
            "2\t8\t64\t2048\t\n",
            "4\t16\t128\t256\t\n",
            "8\t32\t64\t128\t\n",
            "episode 2800 | score 26024 | max 2048 | steps 1384 | time 19828.654822826385\n",
            "64\t32\t8\t4\t\n",
            "128\t64\t16\t8\t\n",
            "256\t128\t32\t4\t\n",
            "64\t32\t8\t2\t\n",
            "episode 2900 | score 4604 | max 256 | steps 380 | time 20693.079745054245\n",
            "Training Completed.\n"
          ]
        }
      ]
    },
    {
      "cell_type": "code",
      "source": [
        "torch.save(policy_net.state_dict(), path + 'policy_net.pth')\n",
        "torch.save(target_net.state_dict(), path + 'target_net.pth')"
      ],
      "metadata": {
        "id": "JOQ3H47ZJ7if"
      },
      "execution_count": null,
      "outputs": []
    },
    {
      "cell_type": "code",
      "source": [
        "plt.plot(episode_durations, label='test')\n",
        "plt.xlabel('Episode')\n",
        "plt.ylabel('Episode Duration')\n",
        "plt.title('Episode Durations')\n",
        "plt.show()"
      ],
      "metadata": {
        "id": "9zZvp_bK-dua",
        "colab": {
          "base_uri": "https://localhost:8080/",
          "height": 470
        },
        "outputId": "dba5c23c-b390-430b-963a-682e577197fb"
      },
      "execution_count": null,
      "outputs": [
        {
          "output_type": "display_data",
          "data": {
            "text/plain": [
              "<Figure size 640x480 with 1 Axes>"
            ],
            "image/png": "[encoded data removed]"
          },
          "metadata": {}
        }
      ]
    },
    {
      "cell_type": "code",
      "source": [
        "plt.plot(scores, label='test')\n",
        "plt.xlabel('Episode')\n",
        "plt.ylabel('Score')\n",
        "plt.title('Scores')\n",
        "plt.show()"
      ],
      "metadata": {
        "id": "VDPI4XE7-Of4",
        "colab": {
          "base_uri": "https://localhost:8080/",
          "height": 470
        },
        "outputId": "ee37594d-ff43-4f85-ded6-7a80bba33b38"
      },
      "execution_count": null,
      "outputs": [
        {
          "output_type": "display_data",
          "data": {
            "text/plain": [
              "<Figure size 640x480 with 1 Axes>"
            ],
            "image/png": "[encoded data removed]"
          },
          "metadata": {}
        }
      ]
    },
    {
      "cell_type": "code",
      "source": [
        "plt.plot(max_tiles, label='test')\n",
        "plt.xlabel('Episode')\n",
        "plt.ylabel('Max Tile')\n",
        "plt.title('Max Tiles')\n",
        "plt.show()"
      ],
      "metadata": {
        "id": "ZrSIm5-J-lvG",
        "colab": {
          "base_uri": "https://localhost:8080/",
          "height": 470
        },
        "outputId": "9433ebe1-a588-48a2-e2d4-85ab338684d6"
      },
      "execution_count": null,
      "outputs": [
        {
          "output_type": "display_data",
          "data": {
            "text/plain": [
              "<Figure size 640x480 with 1 Axes>"
            ],
            "image/png": "[encoded data removed]"
          },
          "metadata": {}
        }
      ]
    },
    {
      "cell_type": "markdown",
      "source": [
        "# Test"
      ],
      "metadata": {
        "id": "JtJXZcaxIS7G"
      }
    },
    {
      "cell_type": "markdown",
      "source": [
        "## Web Environment"
      ],
      "metadata": {
        "id": "gcGnMoFdZoQI"
      }
    },
    {
      "cell_type": "code",
      "source": [
        "from selenium.common.exceptions import StaleElementReferenceException\n",
        "from webdriver_manager.chrome import ChromeDriverManager\n",
        "from selenium import webdriver\n",
        "from selenium.webdriver.common.keys import Keys\n",
        "from selenium.webdriver.chrome.options import Options\n",
        "from selenium.webdriver.chrome.service import Service"
      ],
      "metadata": {
        "id": "Bd8adhl7Zn3D"
      },
      "execution_count": null,
      "outputs": []
    },
    {
      "cell_type": "code",
      "source": [
        "class WebEnv2048:\n",
        "\tdef __init__(self):\n",
        "\t\tself.url = 'http://gabrielecirulli.github.io/2048/'\n",
        "\t\tself.driver = webdriver.Chrome(ChromeDriverManager().install())\n",
        "\t\tself.driver.get(self.url)\n",
        "\t\tself.body = self.driver.find_element_by_tag_name('body')\n",
        "\t\tself.moves = {\n",
        "\t\t\t0: Keys.ARROW_LEFT,\n",
        "\t\t\t1: Keys.ARROW_UP,\n",
        "\t\t\t2: Keys.ARROW_RIGHT,\n",
        "\t\t\t3: Keys.ARROW_DOWN\n",
        "\t\t}\n",
        "\t\n",
        "\t# TODO: reset w/o losing?\n",
        "\tdef _parse_class_name(self, s: str):\n",
        "\t\tfields = s.replace('-', ' ').split(' ')\n",
        "\t\treturn int(fields[6]), int(fields[5]), int(fields[2]), None if len(fields) < 9 else fields[8]\n",
        "\t\n",
        "\tdef reset(self):\n",
        "\t\tself.driver.find_element_by_class_name('retry-button').click()\n",
        "\t\n",
        "\tdef state(self):\n",
        "\t\ttry:\n",
        "\t\t\tgrid = np.zeros((4, 4), dtype=int)\n",
        "\t\t\ttiles = self.driver.find_elements_by_class_name('tile')\n",
        "\t\t\ttiles_data = [self._parse_class_name(t.get_attribute('class')) for t in tiles]\n",
        "\t\t\t\n",
        "\t\t\tfor row, col, val, flag in tiles_data:\n",
        "\t\t\t\tif flag != 'merged':\n",
        "\t\t\t\t\tgrid[row - 1][col - 1] += val\n",
        "\t\t\tfor i in range(4):\n",
        "\t\t\t\tfor j in range(4):\n",
        "\t\t\t\t\tif grid[i][j] != 0:\n",
        "\t\t\t\t\t\tgrid[i][j] = math.log(grid[i][j], 2)\n",
        "\t\t\treturn grid\n",
        "\t\texcept StaleElementReferenceException:\n",
        "\t\t\treturn self.state()\n",
        "\n",
        "\tdef step(self, action):\n",
        "\t\told_score = self.score()\n",
        "\t\told_grid = self.state()\n",
        "\t\tself.body.send_keys(self.moves[action])\n",
        "\t\tif (old_grid == self.state()).all():\n",
        "\t\t\treturn -100\n",
        "\t\treturn self.score() - old_score\n",
        "\t\n",
        "\tdef is_done(self):\n",
        "\t\tgrid = self.state()\n",
        "\t\tfor i in range(grid.shape[0]):\n",
        "\t\t\tfor j in range(grid.shape[1]):\n",
        "\t\t\t\tif grid[i][j] == 0 or \\\n",
        "\t\t\t\t\t\ti != 0 and grid[i - 1][j] == grid[i][j] or \\\n",
        "\t\t\t\t\t\tj != 0 and grid[i][j - 1] == grid[i][j]:\n",
        "\t\t\t\t\treturn False\n",
        "\t\treturn True\n",
        "\t\n",
        "\tdef max_tile(self):\n",
        "\t\treturn 1 << self.state().max()\n",
        "\t\n",
        "\tdef score(self):\n",
        "\t\ts = self.body.find_element_by_xpath('/html/body/div[1]/div[1]/div/div[1]').text\n",
        "\t\treturn int(s.split('\\n')[0])\n",
        "\t\t\n",
        "\tdef _can_perform(self, action):\n",
        "\t\ttmp = np.rot90(self.state(), action)\n",
        "\t\tfor row in range(4):\n",
        "\t\t\thas_empty = False\n",
        "\t\t\tfor col in range(4):\n",
        "\t\t\t\thas_empty |= tmp[row, col] == 0\n",
        "\t\t\t\tif tmp[row, col] != 0 and has_empty:\n",
        "\t\t\t\t\treturn True\n",
        "\t\t\t\tif (tmp[row, col] != 0 and col > 0 and\n",
        "\t\t\t\t\t\ttmp[row, col] == tmp[row, col - 1]):\n",
        "\t\t\t\t\treturn True\n",
        "\t\treturn False\n",
        "\t\n",
        "\tdef possible_actions(self):\n",
        "\t\tres = []\n",
        "\t\tfor a in range(4):\n",
        "\t\t\tif self._can_perform(a):\n",
        "\t\t\t\tres.append(a)\n",
        "\t\treturn res"
      ],
      "metadata": {
        "id": "29Lib2RvZw39"
      },
      "execution_count": null,
      "outputs": []
    },
    {
      "cell_type": "markdown",
      "source": [
        "## Test Functions"
      ],
      "metadata": {
        "id": "6QcsWYxXZ201"
      }
    },
    {
      "cell_type": "code",
      "source": [
        "def single_game(env):\n",
        "    global epsilon\n",
        "    tmp = epsilon\n",
        "    epsilon = FINAL_EPSILON\n",
        "    for t in count():\n",
        "        env.step(select_action(one_hot_encode(env.state()), env.possible_actions()))\n",
        "        if env.is_done():\n",
        "            return t, env.score(), env.max_tile()\n",
        "    epsilon = tmp"
      ],
      "metadata": {
        "id": "rIMygta6ITAh"
      },
      "execution_count": null,
      "outputs": []
    },
    {
      "cell_type": "code",
      "source": [
        "def test(env, episodes=1000):\n",
        "    episode_durations_test = []\n",
        "    scores_test = []\n",
        "    max_tiles_test = []\n",
        "    for episode in range(episodes):\n",
        "        t, score, max_tile = single_game(env)\n",
        "        episode_durations_test.append(t + 1)\n",
        "        scores_test.append(score)\n",
        "        max_tiles_test.append(max_tile)\n",
        "        env.reset()\n",
        "    return episode_durations_test, scores_test, max_tiles_test"
      ],
      "metadata": {
        "id": "h4j6h6N5f4Kd"
      },
      "execution_count": null,
      "outputs": []
    },
    {
      "cell_type": "markdown",
      "source": [
        "## Test Agent"
      ],
      "metadata": {
        "id": "VvFgblk3A_Iu"
      }
    },
    {
      "cell_type": "code",
      "source": [
        "# load from path (local / drive)\n",
        "policy_net.load_state_dict(torch.load(path + 'policy_net.pth'))"
      ],
      "metadata": {
        "colab": {
          "base_uri": "https://localhost:8080/"
        },
        "id": "KORhloOdY7s5",
        "outputId": "56e47f6c-7c8d-4608-b16e-b9c137ce27ae"
      },
      "execution_count": null,
      "outputs": [
        {
          "output_type": "execute_result",
          "data": {
            "text/plain": [
              "<All keys matched successfully>"
            ]
          },
          "metadata": {},
          "execution_count": 300
        }
      ]
    },
    {
      "cell_type": "markdown",
      "source": [
        "### j"
      ],
      "metadata": {
        "id": "yqnmFi5nj5T2"
      }
    },
    {
      "cell_type": "code",
      "source": [
        "test_env = Env2048()"
      ],
      "metadata": {
        "id": "ql8IvBoSaYI9"
      },
      "execution_count": null,
      "outputs": []
    },
    {
      "cell_type": "code",
      "source": [
        "episode_durations_test, scores_test, max_tiles_test = test(test_env, episodes=10)"
      ],
      "metadata": {
        "id": "6qsF94rNbJ8R"
      },
      "execution_count": null,
      "outputs": []
    },
    {
      "cell_type": "code",
      "source": [
        "plt.plot(episode_durations_test, label='test')\n",
        "plt.xlabel('Episode')\n",
        "plt.ylabel('Episode Duration')\n",
        "plt.title('Episode Durations')\n",
        "plt.show()"
      ],
      "metadata": {
        "id": "je5vOrvx-Ocw"
      },
      "execution_count": null,
      "outputs": []
    },
    {
      "cell_type": "code",
      "source": [
        "plt.plot(scores_test, label='test')\n",
        "plt.xlabel('Episode')\n",
        "plt.ylabel('Score')\n",
        "plt.title('Scores')\n",
        "plt.show()"
      ],
      "metadata": {
        "id": "JHZmgXEH-Oi1"
      },
      "execution_count": null,
      "outputs": []
    },
    {
      "cell_type": "code",
      "source": [
        "plt.plot(max_tiles_test, label='test')\n",
        "plt.xlabel('Episode')\n",
        "plt.ylabel('Max Tile')\n",
        "plt.title('Max Tiles')\n",
        "plt.show()"
      ],
      "metadata": {
        "id": "ayZHJ2J6-qYq"
      },
      "execution_count": null,
      "outputs": []
    },
    {
      "cell_type": "markdown",
      "source": [
        "### i"
      ],
      "metadata": {
        "id": "KUV8KPEbj16E"
      }
    },
    {
      "cell_type": "code",
      "source": [
        "web_env = WebEnv2048()"
      ],
      "metadata": {
        "id": "jMsHQXmgu8az",
        "colab": {
          "base_uri": "https://localhost:8080/"
        },
        "outputId": "36b4cd04-3214-4365-fca3-96370aba4361"
      },
      "execution_count": null,
      "outputs": [
        {
          "output_type": "stream",
          "name": "stderr",
          "text": [
            "[WDM] - Downloading: 100%|████████████████████████████████████████████████████████| 6.79M/6.79M [00:00<00:00, 7.73MB/s]\n"
          ]
        }
      ]
    },
    {
      "cell_type": "code",
      "source": [
        "single_game(web_env)"
      ],
      "metadata": {
        "id": "tkyP7jP-h7HF"
      },
      "execution_count": null,
      "outputs": []
    }
  ]
}